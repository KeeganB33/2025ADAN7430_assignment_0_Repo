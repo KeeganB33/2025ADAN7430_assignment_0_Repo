{
 "cells": [
  {
   "cell_type": "code",
   "execution_count": 1,
   "id": "950c886d-c089-41e8-ba14-bcfaf06da20c",
   "metadata": {},
   "outputs": [
    {
     "name": "stdout",
     "output_type": "stream",
     "text": [
      "                   TEAM  BMK  UNI  CCH  STX  SMK  AFF  SLP  NYP  FRL  BNG  \\\n",
      "0     Green Bay Packers    0   94   81  100  100   94   84   52  100   81   \n",
      "1   Pittsburgh Steelers   32  100   65   58   68   74   68   77   84   42   \n",
      "2    Kansas City Chiefs   26   71   84   84   74   71   97   35   71   48   \n",
      "3  New England Patriots   68   68  100   68   32   26   23   90   90   84   \n",
      "4         Buffalo Bills    3   81   58   32   97   97   55   81   55   61   \n",
      "\n",
      "   TRD  BWG  FUT  PLA  OWN  BEH  \n",
      "0  100    6   77   97  100   69  \n",
      "1   90   29   81   84   97   69  \n",
      "2   45   77   94   71   87   44  \n",
      "3   81    0   87   94   65   77  \n",
      "4   48   74   68   58   77   69  \n"
     ]
    }
   ],
   "source": [
    "import pandas as pd\n",
    "\n",
    "data = pd.read_csv('team-picking-categories.csv')\n",
    "\n",
    "data.head()\n",
    "\n",
    "dataHead = pd.DataFrame(data.head())\n",
    "\n",
    "print(dataHead)"
   ]
  },
  {
   "cell_type": "code",
   "execution_count": 2,
   "id": "0752772c-4970-48e6-a593-079eb90181b3",
   "metadata": {},
   "outputs": [
    {
     "name": "stdout",
     "output_type": "stream",
     "text": [
      "It Worked\n"
     ]
    }
   ],
   "source": [
    "file_path = '/Users/keeganbutler/2025Fall_ADAN7430/assignments/assignment_0/ProcessedData/TeamPickData.csv'\n",
    "\n",
    "dataHead.to_csv(file_path,index=False)\n",
    "\n",
    "print(\"It Worked\")\n"
   ]
  },
  {
   "cell_type": "code",
   "execution_count": null,
   "id": "45593020-fad3-4af8-8d29-a88b431a0203",
   "metadata": {},
   "outputs": [],
   "source": []
  },
  {
   "cell_type": "code",
   "execution_count": null,
   "id": "4e55a289-60ea-4107-a7d3-54067f68cb2f",
   "metadata": {},
   "outputs": [],
   "source": []
  }
 ],
 "metadata": {
  "kernelspec": {
   "display_name": "Python 3 (ipykernel)",
   "language": "python",
   "name": "python3"
  },
  "language_info": {
   "codemirror_mode": {
    "name": "ipython",
    "version": 3
   },
   "file_extension": ".py",
   "mimetype": "text/x-python",
   "name": "python",
   "nbconvert_exporter": "python",
   "pygments_lexer": "ipython3",
   "version": "3.11.13"
  }
 },
 "nbformat": 4,
 "nbformat_minor": 5
}
